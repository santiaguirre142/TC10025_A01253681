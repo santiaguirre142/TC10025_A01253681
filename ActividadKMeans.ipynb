{
  "nbformat": 4,
  "nbformat_minor": 0,
  "metadata": {
    "colab": {
      "name": "Proyecto.ipynb",
      "provenance": [],
      "collapsed_sections": []
    },
    "kernelspec": {
      "display_name": "Python 3",
      "language": "python",
      "name": "python3"
    },
    "language_info": {
      "codemirror_mode": {
        "name": "ipython",
        "version": 3
      },
      "file_extension": ".py",
      "mimetype": "text/x-python",
      "name": "python",
      "nbconvert_exporter": "python",
      "pygments_lexer": "ipython3",
      "version": "3.8.5"
    }
  },
  "cells": [
    {
      "cell_type": "markdown",
      "metadata": {
        "id": "UgBUscM9gvyp"
      },
      "source": [
        "# Análisis de Diamantes de laboratorio"
      ]
    },
    {
      "cell_type": "markdown",
      "metadata": {
        "id": "6OqOrwP-FZ2X"
      },
      "source": [
        "## Fernando de Jesús Mendivil Terminel - A00232280"
      ]
    },
    {
      "cell_type": "markdown",
      "metadata": {
        "id": "RzLt4rZRgvyz"
      },
      "source": [
        "## Estadística Descriptiva"
      ]
    },
    {
      "cell_type": "markdown",
      "metadata": {
        "id": "pLU30TugFZ2Y"
      },
      "source": [
        "### Librerías usadas:"
      ]
    },
    {
      "cell_type": "code",
      "metadata": {
        "id": "ShS7ChGvgvyz"
      },
      "source": [
        "import pandas as pd\n",
        "import seaborn as sns\n",
        "import matplotlib.pyplot as plt\n",
        "import numpy as np\n",
        "from collections import Counter"
      ],
      "execution_count": null,
      "outputs": []
    },
    {
      "cell_type": "markdown",
      "metadata": {
        "id": "0jlQ4oUWFZ2Z"
      },
      "source": [
        "### Grid para las gráficas (a excepción del mapa de calor):"
      ]
    },
    {
      "cell_type": "code",
      "metadata": {
        "id": "EdxhzY2EFZ2Z"
      },
      "source": [
        "sns.set_style(\"whitegrid\")\n",
        "sns.set_context(\"notebook\", font_scale=1, rc={\"lines.linewidth\": 2, 'font.family': [u'times']})"
      ],
      "execution_count": null,
      "outputs": []
    },
    {
      "cell_type": "markdown",
      "metadata": {
        "id": "7Wu1wrP5FZ2a"
      },
      "source": [
        "## 1. Carga de datos y estadísticas descriptivas"
      ]
    },
    {
      "cell_type": "markdown",
      "metadata": {
        "id": "FTdWDQqoFZ2a"
      },
      "source": [
        "### Abrir el archivo \"Diamonds are forever.csv\" y asignarlo a la variable \"diamantes\""
      ]
    },
    {
      "cell_type": "code",
      "metadata": {
        "colab": {
          "base_uri": "https://localhost:8080/",
          "height": 376
        },
        "id": "I84odp2mgvy0",
        "outputId": "b078323a-cf54-4e61-f8d8-b5477a0e4053"
      },
      "source": [
        "diamantes = pd.read_csv(\"./Diamonds are forever.csv\", na_values='')\n",
        "print('shape: ', diamantes.shape)\n",
        "diamantes.head(10)\n"
      ],
      "execution_count": null,
      "outputs": [
        {
          "output_type": "stream",
          "text": [
            "shape:  (308, 5)\n"
          ],
          "name": "stdout"
        },
        {
          "output_type": "execute_result",
          "data": {
            "text/html": [
              "<div>\n",
              "<style scoped>\n",
              "    .dataframe tbody tr th:only-of-type {\n",
              "        vertical-align: middle;\n",
              "    }\n",
              "\n",
              "    .dataframe tbody tr th {\n",
              "        vertical-align: top;\n",
              "    }\n",
              "\n",
              "    .dataframe thead th {\n",
              "        text-align: right;\n",
              "    }\n",
              "</style>\n",
              "<table border=\"1\" class=\"dataframe\">\n",
              "  <thead>\n",
              "    <tr style=\"text-align: right;\">\n",
              "      <th></th>\n",
              "      <th>Carat</th>\n",
              "      <th>Colour</th>\n",
              "      <th>Clarity</th>\n",
              "      <th>Lab</th>\n",
              "      <th>Price ($US)</th>\n",
              "    </tr>\n",
              "  </thead>\n",
              "  <tbody>\n",
              "    <tr>\n",
              "      <th>0</th>\n",
              "      <td>0.30</td>\n",
              "      <td>1</td>\n",
              "      <td>5</td>\n",
              "      <td>1</td>\n",
              "      <td>911.4</td>\n",
              "    </tr>\n",
              "    <tr>\n",
              "      <th>1</th>\n",
              "      <td>0.30</td>\n",
              "      <td>2</td>\n",
              "      <td>4</td>\n",
              "      <td>1</td>\n",
              "      <td>1057.0</td>\n",
              "    </tr>\n",
              "    <tr>\n",
              "      <th>2</th>\n",
              "      <td>0.30</td>\n",
              "      <td>4</td>\n",
              "      <td>2</td>\n",
              "      <td>1</td>\n",
              "      <td>1057.0</td>\n",
              "    </tr>\n",
              "    <tr>\n",
              "      <th>3</th>\n",
              "      <td>0.30</td>\n",
              "      <td>4</td>\n",
              "      <td>4</td>\n",
              "      <td>1</td>\n",
              "      <td>882.0</td>\n",
              "    </tr>\n",
              "    <tr>\n",
              "      <th>4</th>\n",
              "      <td>0.31</td>\n",
              "      <td>1</td>\n",
              "      <td>4</td>\n",
              "      <td>1</td>\n",
              "      <td>1148.7</td>\n",
              "    </tr>\n",
              "    <tr>\n",
              "      <th>5</th>\n",
              "      <td>0.31</td>\n",
              "      <td>2</td>\n",
              "      <td>4</td>\n",
              "      <td>1</td>\n",
              "      <td>1088.5</td>\n",
              "    </tr>\n",
              "    <tr>\n",
              "      <th>6</th>\n",
              "      <td>0.31</td>\n",
              "      <td>3</td>\n",
              "      <td>4</td>\n",
              "      <td>1</td>\n",
              "      <td>998.9</td>\n",
              "    </tr>\n",
              "    <tr>\n",
              "      <th>7</th>\n",
              "      <td>0.31</td>\n",
              "      <td>4</td>\n",
              "      <td>3</td>\n",
              "      <td>1</td>\n",
              "      <td>998.9</td>\n",
              "    </tr>\n",
              "    <tr>\n",
              "      <th>8</th>\n",
              "      <td>0.31</td>\n",
              "      <td>5</td>\n",
              "      <td>5</td>\n",
              "      <td>1</td>\n",
              "      <td>788.2</td>\n",
              "    </tr>\n",
              "    <tr>\n",
              "      <th>9</th>\n",
              "      <td>0.31</td>\n",
              "      <td>6</td>\n",
              "      <td>4</td>\n",
              "      <td>1</td>\n",
              "      <td>788.2</td>\n",
              "    </tr>\n",
              "  </tbody>\n",
              "</table>\n",
              "</div>"
            ],
            "text/plain": [
              "   Carat  Colour  Clarity  Lab  Price ($US)\n",
              "0   0.30       1        5    1        911.4\n",
              "1   0.30       2        4    1       1057.0\n",
              "2   0.30       4        2    1       1057.0\n",
              "3   0.30       4        4    1        882.0\n",
              "4   0.31       1        4    1       1148.7\n",
              "5   0.31       2        4    1       1088.5\n",
              "6   0.31       3        4    1        998.9\n",
              "7   0.31       4        3    1        998.9\n",
              "8   0.31       5        5    1        788.2\n",
              "9   0.31       6        4    1        788.2"
            ]
          },
          "metadata": {
            "tags": []
          },
          "execution_count": 8
        }
      ]
    },
    {
      "cell_type": "code",
      "metadata": {
        "colab": {
          "base_uri": "https://localhost:8080/",
          "height": 359
        },
        "id": "Z5-prp_Sgvy1",
        "outputId": "bafae7f0-9f98-4f38-918e-342c282b30dd"
      },
      "source": [
        "diamantes.tail(10)"
      ],
      "execution_count": null,
      "outputs": [
        {
          "output_type": "execute_result",
          "data": {
            "text/html": [
              "<div>\n",
              "<style scoped>\n",
              "    .dataframe tbody tr th:only-of-type {\n",
              "        vertical-align: middle;\n",
              "    }\n",
              "\n",
              "    .dataframe tbody tr th {\n",
              "        vertical-align: top;\n",
              "    }\n",
              "\n",
              "    .dataframe thead th {\n",
              "        text-align: right;\n",
              "    }\n",
              "</style>\n",
              "<table border=\"1\" class=\"dataframe\">\n",
              "  <thead>\n",
              "    <tr style=\"text-align: right;\">\n",
              "      <th></th>\n",
              "      <th>Carat</th>\n",
              "      <th>Colour</th>\n",
              "      <th>Clarity</th>\n",
              "      <th>Lab</th>\n",
              "      <th>Price ($US)</th>\n",
              "    </tr>\n",
              "  </thead>\n",
              "  <tbody>\n",
              "    <tr>\n",
              "      <th>298</th>\n",
              "      <td>1.01</td>\n",
              "      <td>4</td>\n",
              "      <td>3</td>\n",
              "      <td>3</td>\n",
              "      <td>6995.1</td>\n",
              "    </tr>\n",
              "    <tr>\n",
              "      <th>299</th>\n",
              "      <td>1.01</td>\n",
              "      <td>4</td>\n",
              "      <td>5</td>\n",
              "      <td>3</td>\n",
              "      <td>6505.1</td>\n",
              "    </tr>\n",
              "    <tr>\n",
              "      <th>300</th>\n",
              "      <td>1.01</td>\n",
              "      <td>5</td>\n",
              "      <td>3</td>\n",
              "      <td>3</td>\n",
              "      <td>6603.1</td>\n",
              "    </tr>\n",
              "    <tr>\n",
              "      <th>301</th>\n",
              "      <td>1.01</td>\n",
              "      <td>5</td>\n",
              "      <td>4</td>\n",
              "      <td>3</td>\n",
              "      <td>6407.1</td>\n",
              "    </tr>\n",
              "    <tr>\n",
              "      <th>302</th>\n",
              "      <td>1.01</td>\n",
              "      <td>6</td>\n",
              "      <td>2</td>\n",
              "      <td>3</td>\n",
              "      <td>6211.1</td>\n",
              "    </tr>\n",
              "    <tr>\n",
              "      <th>303</th>\n",
              "      <td>1.01</td>\n",
              "      <td>6</td>\n",
              "      <td>4</td>\n",
              "      <td>3</td>\n",
              "      <td>5722.5</td>\n",
              "    </tr>\n",
              "    <tr>\n",
              "      <th>304</th>\n",
              "      <td>1.02</td>\n",
              "      <td>3</td>\n",
              "      <td>3</td>\n",
              "      <td>3</td>\n",
              "      <td>7557.2</td>\n",
              "    </tr>\n",
              "    <tr>\n",
              "      <th>305</th>\n",
              "      <td>1.06</td>\n",
              "      <td>5</td>\n",
              "      <td>3</td>\n",
              "      <td>3</td>\n",
              "      <td>6923.0</td>\n",
              "    </tr>\n",
              "    <tr>\n",
              "      <th>306</th>\n",
              "      <td>1.02</td>\n",
              "      <td>5</td>\n",
              "      <td>5</td>\n",
              "      <td>3</td>\n",
              "      <td>6271.3</td>\n",
              "    </tr>\n",
              "    <tr>\n",
              "      <th>307</th>\n",
              "      <td>1.09</td>\n",
              "      <td>6</td>\n",
              "      <td>3</td>\n",
              "      <td>3</td>\n",
              "      <td>6374.9</td>\n",
              "    </tr>\n",
              "  </tbody>\n",
              "</table>\n",
              "</div>"
            ],
            "text/plain": [
              "     Carat  Colour  Clarity  Lab  Price ($US)\n",
              "298   1.01       4        3    3       6995.1\n",
              "299   1.01       4        5    3       6505.1\n",
              "300   1.01       5        3    3       6603.1\n",
              "301   1.01       5        4    3       6407.1\n",
              "302   1.01       6        2    3       6211.1\n",
              "303   1.01       6        4    3       5722.5\n",
              "304   1.02       3        3    3       7557.2\n",
              "305   1.06       5        3    3       6923.0\n",
              "306   1.02       5        5    3       6271.3\n",
              "307   1.09       6        3    3       6374.9"
            ]
          },
          "metadata": {
            "tags": []
          },
          "execution_count": 9
        }
      ]
    },
    {
      "cell_type": "markdown",
      "metadata": {
        "id": "pNRyN5UtFZ2c"
      },
      "source": [
        "### Verificación de datos nulos (no hay):"
      ]
    },
    {
      "cell_type": "code",
      "metadata": {
        "colab": {
          "base_uri": "https://localhost:8080/"
        },
        "id": "hjwvFpKHgvy2",
        "outputId": "e3174b02-1ddc-49a4-91d9-f83ab7f76a17"
      },
      "source": [
        "diamantes.isnull().sum()"
      ],
      "execution_count": null,
      "outputs": [
        {
          "output_type": "execute_result",
          "data": {
            "text/plain": [
              "Carat          0\n",
              "Colour         0\n",
              "Clarity        0\n",
              "Lab            0\n",
              "Price ($US)    0\n",
              "dtype: int64"
            ]
          },
          "metadata": {
            "tags": []
          },
          "execution_count": 10
        }
      ]
    },
    {
      "cell_type": "markdown",
      "metadata": {
        "id": "H-chTYm6FZ2c"
      },
      "source": [
        "### Estadísticas descriptivas: Conteo, media, desviación estándar, cuártiles (mínimo, 25%, 50%, 75%, máximo) y mediana:"
      ]
    },
    {
      "cell_type": "code",
      "metadata": {
        "colab": {
          "base_uri": "https://localhost:8080/",
          "height": 297
        },
        "id": "cKQD4TWMgvy2",
        "scrolled": true,
        "outputId": "d49b650a-f462-4687-ef3a-6f6fb55cd2d3"
      },
      "source": [
        "diamantes.describe()"
      ],
      "execution_count": null,
      "outputs": [
        {
          "output_type": "execute_result",
          "data": {
            "text/html": [
              "<div>\n",
              "<style scoped>\n",
              "    .dataframe tbody tr th:only-of-type {\n",
              "        vertical-align: middle;\n",
              "    }\n",
              "\n",
              "    .dataframe tbody tr th {\n",
              "        vertical-align: top;\n",
              "    }\n",
              "\n",
              "    .dataframe thead th {\n",
              "        text-align: right;\n",
              "    }\n",
              "</style>\n",
              "<table border=\"1\" class=\"dataframe\">\n",
              "  <thead>\n",
              "    <tr style=\"text-align: right;\">\n",
              "      <th></th>\n",
              "      <th>Carat</th>\n",
              "      <th>Colour</th>\n",
              "      <th>Clarity</th>\n",
              "      <th>Lab</th>\n",
              "      <th>Price ($US)</th>\n",
              "    </tr>\n",
              "  </thead>\n",
              "  <tbody>\n",
              "    <tr>\n",
              "      <th>count</th>\n",
              "      <td>308.000000</td>\n",
              "      <td>308.00000</td>\n",
              "      <td>308.000000</td>\n",
              "      <td>308.000000</td>\n",
              "      <td>308.000000</td>\n",
              "    </tr>\n",
              "    <tr>\n",
              "      <th>mean</th>\n",
              "      <td>0.630909</td>\n",
              "      <td>3.75000</td>\n",
              "      <td>3.152597</td>\n",
              "      <td>1.766234</td>\n",
              "      <td>3513.638636</td>\n",
              "    </tr>\n",
              "    <tr>\n",
              "      <th>std</th>\n",
              "      <td>0.277183</td>\n",
              "      <td>1.40236</td>\n",
              "      <td>1.293718</td>\n",
              "      <td>0.833283</td>\n",
              "      <td>2382.181001</td>\n",
              "    </tr>\n",
              "    <tr>\n",
              "      <th>min</th>\n",
              "      <td>0.180000</td>\n",
              "      <td>1.00000</td>\n",
              "      <td>1.000000</td>\n",
              "      <td>1.000000</td>\n",
              "      <td>446.600000</td>\n",
              "    </tr>\n",
              "    <tr>\n",
              "      <th>25%</th>\n",
              "      <td>0.350000</td>\n",
              "      <td>3.00000</td>\n",
              "      <td>2.000000</td>\n",
              "      <td>1.000000</td>\n",
              "      <td>1137.500000</td>\n",
              "    </tr>\n",
              "    <tr>\n",
              "      <th>50%</th>\n",
              "      <td>0.620000</td>\n",
              "      <td>4.00000</td>\n",
              "      <td>3.000000</td>\n",
              "      <td>2.000000</td>\n",
              "      <td>2950.500000</td>\n",
              "    </tr>\n",
              "    <tr>\n",
              "      <th>75%</th>\n",
              "      <td>0.850000</td>\n",
              "      <td>5.00000</td>\n",
              "      <td>4.000000</td>\n",
              "      <td>3.000000</td>\n",
              "      <td>5212.200000</td>\n",
              "    </tr>\n",
              "    <tr>\n",
              "      <th>max</th>\n",
              "      <td>1.100000</td>\n",
              "      <td>6.00000</td>\n",
              "      <td>5.000000</td>\n",
              "      <td>3.000000</td>\n",
              "      <td>11205.600000</td>\n",
              "    </tr>\n",
              "  </tbody>\n",
              "</table>\n",
              "</div>"
            ],
            "text/plain": [
              "            Carat     Colour     Clarity         Lab   Price ($US)\n",
              "count  308.000000  308.00000  308.000000  308.000000    308.000000\n",
              "mean     0.630909    3.75000    3.152597    1.766234   3513.638636\n",
              "std      0.277183    1.40236    1.293718    0.833283   2382.181001\n",
              "min      0.180000    1.00000    1.000000    1.000000    446.600000\n",
              "25%      0.350000    3.00000    2.000000    1.000000   1137.500000\n",
              "50%      0.620000    4.00000    3.000000    2.000000   2950.500000\n",
              "75%      0.850000    5.00000    4.000000    3.000000   5212.200000\n",
              "max      1.100000    6.00000    5.000000    3.000000  11205.600000"
            ]
          },
          "metadata": {
            "tags": []
          },
          "execution_count": 11
        }
      ]
    },
    {
      "cell_type": "code",
      "metadata": {
        "colab": {
          "base_uri": "https://localhost:8080/"
        },
        "id": "SX9NaGQOgvy2",
        "scrolled": true,
        "outputId": "82f5e7b4-fb24-4178-e129-9eb32e0424d3"
      },
      "source": [
        "print (\"Mediana en Carat\", diamantes['Carat'].median())\n",
        "print (\"Mediana en Colour\", diamantes['Colour'].median())\n",
        "print (\"Mediana en Clarity\", diamantes['Clarity'].median())\n",
        "print (\"Mediana en Lab\", diamantes['Lab'].median())\n",
        "print (\"Mediana en Price ($US)\", diamantes['Price ($US)'].median())"
      ],
      "execution_count": null,
      "outputs": [
        {
          "output_type": "stream",
          "text": [
            "Mediana en Carat 0.62\n",
            "Mediana en Colour 4.0\n",
            "Mediana en Clarity 3.0\n",
            "Mediana en Lab 2.0\n",
            "Mediana en Price ($US) 2950.5\n"
          ],
          "name": "stdout"
        }
      ]
    },
    {
      "cell_type": "markdown",
      "metadata": {
        "id": "UGzOtqQ8gvy3"
      },
      "source": [
        "### Las variables del estudio de diamantes son las siguientes:\n",
        "|Variable|Tipo|Descripción|\n",
        "|--------|----|-----------|\n",
        "|Carat|Cuantitativa|Peso del diamante en carats.|\n",
        "|Colour|Cualitativa|Valor numérico de la calidad del color; va de 1 (sin color) a 6 (casi sin color)|\n",
        "|Clarity|Cualitativa|Valor numérico de la claridad; va de 1 (perfecto) a 5 (inclusiones muy pequeña)|\n",
        "|Lab|Cualitativa|Laboratorio que evaluó el diamante, en orden de 1 a 3: Gemmological Institute of America, International Gemmological Institute, Diamond High Council|\n",
        "|Price ($US)|Cuantitativa|Valor del diamante|\n"
      ]
    },
    {
      "cell_type": "markdown",
      "metadata": {
        "id": "GPKOEMsKgvy3"
      },
      "source": [
        "## 2. Obteniendo gráficas y mapas de calor"
      ]
    },
    {
      "cell_type": "markdown",
      "metadata": {
        "id": "IV7tTKWmFZ2e"
      },
      "source": [
        "### 2.1 Histogramas: Se utilizaron para las variables cualitativas (color, claridad y laboratorio). Con esto se realiza un conteo de cuántos diamantes tienen tal especificación de cada característica."
      ]
    },
    {
      "cell_type": "code",
      "metadata": {
        "colab": {
          "base_uri": "https://localhost:8080/",
          "height": 301
        },
        "id": "jg9KvVr2gvy3",
        "scrolled": true,
        "outputId": "fda5b9cf-a4f2-4809-c832-dea6335f2200"
      },
      "source": [
        "colores = diamantes['Colour']\n",
        "histogram = Counter(min(color // 1 * 1, 6) for color in colores)\n",
        "\n",
        "plt.bar([x for x in histogram.keys()],\n",
        "        histogram.values(),\n",
        "        1,\n",
        "        edgecolor=(0, 0, 0))\n",
        "\n",
        "plt.axis([0, 7, 0, 90])\n",
        "\n",
        "plt.xticks([i for i in range(7)])\n",
        "plt.xlabel(\"Color\")\n",
        "plt.ylabel(\"# de diamantes\")\n",
        "plt.title(\"Distribución de color de diamantes\")\n",
        "plt.show()"
      ],
      "execution_count": null,
      "outputs": [
        {
          "output_type": "display_data",
          "data": {
            "image/png": "[encoded data removed]",
            "text/plain": [
              "<Figure size 432x288 with 1 Axes>"
            ]
          },
          "metadata": {
            "tags": []
          }
        }
      ]
    },
    {
      "cell_type": "code",
      "metadata": {
        "colab": {
          "base_uri": "https://localhost:8080/",
          "height": 301
        },
        "id": "d9eIphoRgvy4",
        "outputId": "3d130918-418f-4a38-d055-54ec88dc0ece"
      },
      "source": [
        "claridades = diamantes['Clarity']\n",
        "histogram = Counter(min(claridad // 1 * 1, 5) for claridad in claridades)\n",
        "\n",
        "plt.bar([x for x in histogram.keys()],\n",
        "        histogram.values(),\n",
        "        1,\n",
        "        edgecolor=(0, 0, 0))\n",
        "\n",
        "plt.axis([0, 6, 0, 90])\n",
        "\n",
        "plt.xticks([i for i in range(6)])\n",
        "plt.xlabel(\"Claridad\")\n",
        "plt.ylabel(\"# de diamantes\")\n",
        "plt.title(\"Distribución de color de diamantes\")\n",
        "plt.show()"
      ],
      "execution_count": null,
      "outputs": [
        {
          "output_type": "display_data",
          "data": {
            "image/png": "[encoded data removed]",
            "text/plain": [
              "<Figure size 432x288 with 1 Axes>"
            ]
          },
          "metadata": {
            "tags": []
          }
        }
      ]
    },
    {
      "cell_type": "code",
      "metadata": {
        "colab": {
          "base_uri": "https://localhost:8080/",
          "height": 301
        },
        "id": "uoai3eOfgvy4",
        "outputId": "43f86d96-566e-4460-a76f-0458e170e208"
      },
      "source": [
        "labs = diamantes['Lab']\n",
        "histogram = Counter(min(lab // 1 * 1, 5) for lab in labs)\n",
        "\n",
        "plt.bar([x for x in histogram.keys()],\n",
        "        histogram.values(),\n",
        "        1,\n",
        "        edgecolor=(0, 0, 0))\n",
        "\n",
        "plt.axis([0, 4, 0, 160])\n",
        "\n",
        "plt.xticks([i for i in range(4)])\n",
        "plt.xlabel(\"Laboratorio\")\n",
        "plt.ylabel(\"# de diamantes\")\n",
        "plt.title(\"Distribución de color de diamantes\")\n",
        "plt.show()"
      ],
      "execution_count": null,
      "outputs": [
        {
          "output_type": "display_data",
          "data": {
            "image/png": "[encoded data removed]",
            "text/plain": [
              "<Figure size 432x288 with 1 Axes>"
            ]
          },
          "metadata": {
            "tags": []
          }
        }
      ]
    },
    {
      "cell_type": "markdown",
      "metadata": {
        "id": "zHJYbv_FFZ2f"
      },
      "source": [
        "### 2.2 Mapa de calor: Expresa gráficamente la correlación entre variables, para ver qué tanto influye una variable a otra. Entre mayor sea el valor (absolutamente hablando), significa que la relación entre variables es mejor."
      ]
    },
    {
      "cell_type": "code",
      "metadata": {
        "colab": {
          "base_uri": "https://localhost:8080/",
          "height": 305
        },
        "id": "5WBo8B1Ngvy4",
        "outputId": "d93a4ed2-903c-437b-c222-7c4e9f4731bf"
      },
      "source": [
        "correlation_matrix = diamantes.corr().round(2)\n",
        "\n",
        "sns.heatmap(data = correlation_matrix, annot=True)"
      ],
      "execution_count": null,
      "outputs": [
        {
          "output_type": "execute_result",
          "data": {
            "text/plain": [
              "<matplotlib.axes._subplots.AxesSubplot at 0x7f51b041e990>"
            ]
          },
          "metadata": {
            "tags": []
          },
          "execution_count": 16
        },
        {
          "output_type": "display_data",
          "data": {
            "image/png": "[encoded data removed]",
            "text/plain": [
              "<Figure size 432x288 with 2 Axes>"
            ]
          },
          "metadata": {
            "tags": []
          }
        }
      ]
    },
    {
      "cell_type": "markdown",
      "metadata": {
        "id": "D9unf_RaFZ2g"
      },
      "source": [
        "### 2.3 Boxplots: Indica gráficamente el cómo están los cuartiles. Los boxplots del precio y kilates están en diferentes figuras debido  a que sus rangos son muy diferentes; por otro lado, los de las 3 características restantes tienen rangos parecidos."
      ]
    },
    {
      "cell_type": "code",
      "metadata": {
        "colab": {
          "base_uri": "https://localhost:8080/",
          "height": 268
        },
        "id": "vHPopp8zgvy5",
        "outputId": "f1ca8ab5-ce5b-46c2-cea1-9d7ccad08343"
      },
      "source": [
        "plt.boxplot(diamantes['Price ($US)'], notch=True)\n",
        "plt.show()"
      ],
      "execution_count": null,
      "outputs": [
        {
          "output_type": "display_data",
          "data": {
            "image/png": "[encoded data removed]",
            "text/plain": [
              "<Figure size 432x288 with 1 Axes>"
            ]
          },
          "metadata": {
            "tags": []
          }
        }
      ]
    },
    {
      "cell_type": "code",
      "metadata": {
        "colab": {
          "base_uri": "https://localhost:8080/",
          "height": 268
        },
        "id": "qIJyZihngvy5",
        "outputId": "15761066-91d4-499e-b62d-7e453d7391d9"
      },
      "source": [
        "plt.boxplot(diamantes['Carat'], notch=True)\n",
        "plt.show()"
      ],
      "execution_count": null,
      "outputs": [
        {
          "output_type": "display_data",
          "data": {
            "image/png": "[encoded data removed]",
            "text/plain": [
              "<Figure size 432x288 with 1 Axes>"
            ]
          },
          "metadata": {
            "tags": []
          }
        }
      ]
    },
    {
      "cell_type": "code",
      "metadata": {
        "colab": {
          "base_uri": "https://localhost:8080/",
          "height": 570
        },
        "id": "GaS7kAvDgvy5",
        "outputId": "5f641dc3-5722-493f-8c49-6ec3e245e224"
      },
      "source": [
        "datos = [diamantes['Colour'],diamantes['Clarity'],diamantes['Lab']]\n",
        "\n",
        "fig = plt.figure(figsize=(10,7))\n",
        "ax = fig.add_axes([0,0,1,1])\n",
        "\n",
        "box = ax.boxplot(datos, notch=True)\n",
        "plt.title(\"Boxplots de color, claridad y laboratorios\")\n",
        "plt.show()"
      ],
      "execution_count": null,
      "outputs": [
        {
          "output_type": "display_data",
          "data": {
            "image/png": "[encoded data removed]",
            "text/plain": [
              "<Figure size 720x504 with 1 Axes>"
            ]
          },
          "metadata": {
            "tags": []
          }
        }
      ]
    },
    {
      "cell_type": "markdown",
      "metadata": {
        "id": "QXSC49fZFZ2j"
      },
      "source": [
        "### 2.4 Gráfico de dispersión: Se graficó la relación kilate-precio, pues en el mapa de calor estas dos variables tenían la mayor correlación."
      ]
    },
    {
      "cell_type": "code",
      "metadata": {
        "colab": {
          "base_uri": "https://localhost:8080/",
          "height": 285
        },
        "id": "iFNZqObngvy5",
        "outputId": "681c48f1-7229-4bde-9583-8d1fac278b40"
      },
      "source": [
        "x = diamantes.Carat\n",
        "y = diamantes['Price ($US)']\n",
        "plt.scatter(x, y, color = 'red')"
      ],
      "execution_count": null,
      "outputs": [
        {
          "output_type": "execute_result",
          "data": {
            "text/plain": [
              "<matplotlib.collections.PathCollection at 0x7f51b04893d0>"
            ]
          },
          "metadata": {
            "tags": []
          },
          "execution_count": 20
        },
        {
          "output_type": "display_data",
          "data": {
            "image/png": "[encoded data removed]",
            "text/plain": [
              "<Figure size 432x288 with 1 Axes>"
            ]
          },
          "metadata": {
            "tags": []
          }
        }
      ]
    },
    {
      "cell_type": "markdown",
      "metadata": {
        "id": "CIWONUi-gvy5"
      },
      "source": [
        "## Usando K-means"
      ]
    },
    {
      "cell_type": "markdown",
      "metadata": {
        "id": "pFo05BdxFZ2k"
      },
      "source": [
        "### 3.1 Importación de las librerías de inteligencia artificial"
      ]
    },
    {
      "cell_type": "code",
      "metadata": {
        "id": "Aj9i3Bncgvy6"
      },
      "source": [
        "from sklearn import metrics\n",
        "from sklearn import cluster\n",
        "from sklearn.preprocessing import OneHotEncoder\n",
        "from sklearn.preprocessing import MinMaxScaler"
      ],
      "execution_count": null,
      "outputs": []
    },
    {
      "cell_type": "markdown",
      "metadata": {
        "id": "J0HgZDNFFZ2k"
      },
      "source": [
        "### 3.2 Normalización de datos: Para que el algoritmo funcione correctamente, lo mejor es utilizar datos entre 0 y 1. Y para los laboratorios, se modificó la columna de tal manera que salieran 3, una por cada laboratorio, y sus valores son 0 o 1, dependiendo si el diamante fue estudiado en ese laboratorio o no."
      ]
    },
    {
      "cell_type": "code",
      "metadata": {
        "colab": {
          "base_uri": "https://localhost:8080/",
          "height": 419
        },
        "id": "a4upD85Zgvy6",
        "outputId": "a9da48e2-dd5e-4319-ac2a-b36eb3b3f42d"
      },
      "source": [
        "one = OneHotEncoder(handle_unknown ='ignore')\n",
        "min_max = MinMaxScaler()\n",
        "\n",
        "result = one.fit_transform(diamantes['Lab'].values.reshape(-1, 1)).toarray()\n",
        "\n",
        "dia_1 = diamantes\n",
        "dia_1[['Lab1', 'Lab2', 'Lab3']] = pd.DataFrame(result, index = dia_1.index)\n",
        "dia_2 = min_max.fit_transform(dia_1.values)\n",
        "dia_2 = pd.DataFrame(dia_2, columns=dia_1.columns)\n",
        "dia_2"
      ],
      "execution_count": null,
      "outputs": [
        {
          "output_type": "execute_result",
          "data": {
            "text/html": [
              "<div>\n",
              "<style scoped>\n",
              "    .dataframe tbody tr th:only-of-type {\n",
              "        vertical-align: middle;\n",
              "    }\n",
              "\n",
              "    .dataframe tbody tr th {\n",
              "        vertical-align: top;\n",
              "    }\n",
              "\n",
              "    .dataframe thead th {\n",
              "        text-align: right;\n",
              "    }\n",
              "</style>\n",
              "<table border=\"1\" class=\"dataframe\">\n",
              "  <thead>\n",
              "    <tr style=\"text-align: right;\">\n",
              "      <th></th>\n",
              "      <th>Carat</th>\n",
              "      <th>Colour</th>\n",
              "      <th>Clarity</th>\n",
              "      <th>Lab</th>\n",
              "      <th>Price ($US)</th>\n",
              "      <th>Lab1</th>\n",
              "      <th>Lab2</th>\n",
              "      <th>Lab3</th>\n",
              "    </tr>\n",
              "  </thead>\n",
              "  <tbody>\n",
              "    <tr>\n",
              "      <th>0</th>\n",
              "      <td>0.130435</td>\n",
              "      <td>0.0</td>\n",
              "      <td>1.00</td>\n",
              "      <td>0.0</td>\n",
              "      <td>0.043201</td>\n",
              "      <td>1.0</td>\n",
              "      <td>0.0</td>\n",
              "      <td>0.0</td>\n",
              "    </tr>\n",
              "    <tr>\n",
              "      <th>1</th>\n",
              "      <td>0.130435</td>\n",
              "      <td>0.2</td>\n",
              "      <td>0.75</td>\n",
              "      <td>0.0</td>\n",
              "      <td>0.056734</td>\n",
              "      <td>1.0</td>\n",
              "      <td>0.0</td>\n",
              "      <td>0.0</td>\n",
              "    </tr>\n",
              "    <tr>\n",
              "      <th>2</th>\n",
              "      <td>0.130435</td>\n",
              "      <td>0.6</td>\n",
              "      <td>0.25</td>\n",
              "      <td>0.0</td>\n",
              "      <td>0.056734</td>\n",
              "      <td>1.0</td>\n",
              "      <td>0.0</td>\n",
              "      <td>0.0</td>\n",
              "    </tr>\n",
              "    <tr>\n",
              "      <th>3</th>\n",
              "      <td>0.130435</td>\n",
              "      <td>0.6</td>\n",
              "      <td>0.75</td>\n",
              "      <td>0.0</td>\n",
              "      <td>0.040468</td>\n",
              "      <td>1.0</td>\n",
              "      <td>0.0</td>\n",
              "      <td>0.0</td>\n",
              "    </tr>\n",
              "    <tr>\n",
              "      <th>4</th>\n",
              "      <td>0.141304</td>\n",
              "      <td>0.0</td>\n",
              "      <td>0.75</td>\n",
              "      <td>0.0</td>\n",
              "      <td>0.065257</td>\n",
              "      <td>1.0</td>\n",
              "      <td>0.0</td>\n",
              "      <td>0.0</td>\n",
              "    </tr>\n",
              "    <tr>\n",
              "      <th>...</th>\n",
              "      <td>...</td>\n",
              "      <td>...</td>\n",
              "      <td>...</td>\n",
              "      <td>...</td>\n",
              "      <td>...</td>\n",
              "      <td>...</td>\n",
              "      <td>...</td>\n",
              "      <td>...</td>\n",
              "    </tr>\n",
              "    <tr>\n",
              "      <th>303</th>\n",
              "      <td>0.902174</td>\n",
              "      <td>1.0</td>\n",
              "      <td>0.75</td>\n",
              "      <td>1.0</td>\n",
              "      <td>0.490371</td>\n",
              "      <td>0.0</td>\n",
              "      <td>0.0</td>\n",
              "      <td>1.0</td>\n",
              "    </tr>\n",
              "    <tr>\n",
              "      <th>304</th>\n",
              "      <td>0.913043</td>\n",
              "      <td>0.4</td>\n",
              "      <td>0.50</td>\n",
              "      <td>1.0</td>\n",
              "      <td>0.660898</td>\n",
              "      <td>0.0</td>\n",
              "      <td>0.0</td>\n",
              "      <td>1.0</td>\n",
              "    </tr>\n",
              "    <tr>\n",
              "      <th>305</th>\n",
              "      <td>0.956522</td>\n",
              "      <td>0.8</td>\n",
              "      <td>0.50</td>\n",
              "      <td>1.0</td>\n",
              "      <td>0.601952</td>\n",
              "      <td>0.0</td>\n",
              "      <td>0.0</td>\n",
              "      <td>1.0</td>\n",
              "    </tr>\n",
              "    <tr>\n",
              "      <th>306</th>\n",
              "      <td>0.913043</td>\n",
              "      <td>0.8</td>\n",
              "      <td>1.00</td>\n",
              "      <td>1.0</td>\n",
              "      <td>0.541379</td>\n",
              "      <td>0.0</td>\n",
              "      <td>0.0</td>\n",
              "      <td>1.0</td>\n",
              "    </tr>\n",
              "    <tr>\n",
              "      <th>307</th>\n",
              "      <td>0.989130</td>\n",
              "      <td>1.0</td>\n",
              "      <td>0.50</td>\n",
              "      <td>1.0</td>\n",
              "      <td>0.551008</td>\n",
              "      <td>0.0</td>\n",
              "      <td>0.0</td>\n",
              "      <td>1.0</td>\n",
              "    </tr>\n",
              "  </tbody>\n",
              "</table>\n",
              "<p>308 rows × 8 columns</p>\n",
              "</div>"
            ],
            "text/plain": [
              "        Carat  Colour  Clarity  Lab  Price ($US)  Lab1  Lab2  Lab3\n",
              "0    0.130435     0.0     1.00  0.0     0.043201   1.0   0.0   0.0\n",
              "1    0.130435     0.2     0.75  0.0     0.056734   1.0   0.0   0.0\n",
              "2    0.130435     0.6     0.25  0.0     0.056734   1.0   0.0   0.0\n",
              "3    0.130435     0.6     0.75  0.0     0.040468   1.0   0.0   0.0\n",
              "4    0.141304     0.0     0.75  0.0     0.065257   1.0   0.0   0.0\n",
              "..        ...     ...      ...  ...          ...   ...   ...   ...\n",
              "303  0.902174     1.0     0.75  1.0     0.490371   0.0   0.0   1.0\n",
              "304  0.913043     0.4     0.50  1.0     0.660898   0.0   0.0   1.0\n",
              "305  0.956522     0.8     0.50  1.0     0.601952   0.0   0.0   1.0\n",
              "306  0.913043     0.8     1.00  1.0     0.541379   0.0   0.0   1.0\n",
              "307  0.989130     1.0     0.50  1.0     0.551008   0.0   0.0   1.0\n",
              "\n",
              "[308 rows x 8 columns]"
            ]
          },
          "metadata": {
            "tags": []
          },
          "execution_count": 22
        }
      ]
    },
    {
      "cell_type": "markdown",
      "metadata": {
        "id": "iQUR1Lc8FZ2l"
      },
      "source": [
        "### 3.3 *Clusters*: Aquí se utilizan los algoritmos de inteligencia artificial para obtener los centros de donde nosotros vimos que se concentraban los datos (como nosotros visualizamos 3 grandes grupos en el gráfico de dispersión, entonces nuestro número de clusters es 3)."
      ]
    },
    {
      "cell_type": "code",
      "metadata": {
        "colab": {
          "base_uri": "https://localhost:8080/"
        },
        "id": "56CjKw_fgvy6",
        "outputId": "8605d468-2c60-4123-a1de-a87a7f04a4d0"
      },
      "source": [
        "from sklearn.cluster import KMeans\n",
        "clu = KMeans(n_clusters=3)\n",
        "clu.fit(dia_2)\n",
        "clu.cluster_centers_"
      ],
      "execution_count": null,
      "outputs": [
        {
          "output_type": "execute_result",
          "data": {
            "text/plain": [
              "array([[ 5.35056147e-01,  5.35099338e-01,  6.75496689e-01,\n",
              "        -5.55111512e-16,  3.03995915e-01,  1.00000000e+00,\n",
              "        -2.22044605e-16,  6.66133815e-16],\n",
              "       [ 6.87947166e-01,  5.87341772e-01,  5.37974684e-01,\n",
              "         1.00000000e+00,  4.25694473e-01,  0.00000000e+00,\n",
              "         2.77555756e-16,  1.00000000e+00],\n",
              "       [ 2.02759197e-01,  5.41025641e-01,  2.72435897e-01,\n",
              "         5.00000000e-01,  1.05993194e-01, -5.55111512e-17,\n",
              "         1.00000000e+00,  4.44089210e-16]])"
            ]
          },
          "metadata": {
            "tags": []
          },
          "execution_count": 23
        }
      ]
    },
    {
      "cell_type": "markdown",
      "metadata": {
        "id": "dKcO3i1JFZ2l"
      },
      "source": [
        "### 4.1 Estas son las clasificaciones de cada elemento que detectó el algoritmo, esto es dependiendo de cada grupo."
      ]
    },
    {
      "cell_type": "code",
      "metadata": {
        "colab": {
          "base_uri": "https://localhost:8080/"
        },
        "id": "xlnwb1Zagvy6",
        "outputId": "1799e10a-63e7-4094-85af-f921655cafc1"
      },
      "source": [
        "clu.labels_"
      ],
      "execution_count": null,
      "outputs": [
        {
          "output_type": "execute_result",
          "data": {
            "text/plain": [
              "array([0, 0, 0, 0, 0, 0, 0, 0, 0, 0, 0, 0, 0, 0, 0, 0, 0, 0, 0, 0, 0, 0,\n",
              "       0, 0, 0, 0, 0, 0, 0, 0, 0, 0, 0, 0, 0, 0, 0, 0, 0, 0, 0, 0, 0, 0,\n",
              "       0, 0, 0, 0, 0, 0, 0, 0, 0, 0, 0, 0, 0, 0, 0, 0, 0, 0, 0, 0, 0, 0,\n",
              "       0, 0, 0, 0, 0, 0, 0, 0, 0, 0, 0, 0, 0, 0, 0, 0, 0, 0, 0, 0, 0, 0,\n",
              "       0, 0, 0, 0, 0, 0, 0, 0, 0, 0, 0, 0, 0, 0, 0, 0, 0, 0, 0, 0, 0, 0,\n",
              "       0, 0, 0, 0, 0, 0, 0, 0, 0, 0, 0, 0, 0, 0, 0, 0, 0, 0, 0, 0, 0, 0,\n",
              "       0, 0, 0, 0, 0, 0, 0, 0, 0, 0, 0, 0, 0, 0, 0, 0, 0, 0, 0, 2, 2, 2,\n",
              "       2, 2, 2, 2, 2, 2, 2, 2, 2, 2, 2, 2, 2, 2, 2, 2, 2, 2, 2, 2, 2, 2,\n",
              "       2, 2, 2, 2, 2, 2, 2, 2, 2, 2, 2, 2, 2, 2, 2, 2, 2, 2, 2, 2, 2, 2,\n",
              "       2, 2, 2, 2, 2, 2, 2, 2, 2, 2, 2, 2, 2, 2, 2, 2, 2, 2, 2, 2, 2, 2,\n",
              "       2, 2, 2, 2, 2, 2, 2, 2, 2, 1, 1, 1, 1, 1, 1, 1, 1, 1, 1, 1, 1, 1,\n",
              "       1, 1, 1, 1, 1, 1, 1, 1, 1, 1, 1, 1, 1, 1, 1, 1, 1, 1, 1, 1, 1, 1,\n",
              "       1, 1, 1, 1, 1, 1, 1, 1, 1, 1, 1, 1, 1, 1, 1, 1, 1, 1, 1, 1, 1, 1,\n",
              "       1, 1, 1, 1, 1, 1, 1, 1, 1, 1, 1, 1, 1, 1, 1, 1, 1, 1, 1, 1, 1, 1],\n",
              "      dtype=int32)"
            ]
          },
          "metadata": {
            "tags": []
          },
          "execution_count": 24
        }
      ]
    },
    {
      "cell_type": "markdown",
      "metadata": {
        "id": "PfXsZ2JZFZ2l"
      },
      "source": [
        "### 4.2 Evaluaciones de la inteligencia artificial (en este caso):"
      ]
    },
    {
      "cell_type": "code",
      "metadata": {
        "colab": {
          "base_uri": "https://localhost:8080/"
        },
        "id": "p1DB0VAMgvy6",
        "outputId": "79dcdc7a-439d-4d5f-8e66-e5e2725cf773"
      },
      "source": [
        "from sklearn.metrics import silhouette_score\n",
        "silhouette_score(dia_2, clu.labels_)"
      ],
      "execution_count": null,
      "outputs": [
        {
          "output_type": "execute_result",
          "data": {
            "text/plain": [
              "0.6258920976995611"
            ]
          },
          "metadata": {
            "tags": []
          },
          "execution_count": 25
        }
      ]
    },
    {
      "cell_type": "code",
      "metadata": {
        "colab": {
          "base_uri": "https://localhost:8080/"
        },
        "id": "2KwyiYEzgvy7",
        "outputId": "80cfd21f-112e-41bf-fa6a-e58e5aee459a"
      },
      "source": [
        "from sklearn.metrics import calinski_harabasz_score\n",
        "calinski_harabasz_score(dia_2, clu.labels_)"
      ],
      "execution_count": null,
      "outputs": [
        {
          "output_type": "execute_result",
          "data": {
            "text/plain": [
              "536.1030009114689"
            ]
          },
          "metadata": {
            "tags": []
          },
          "execution_count": 26
        }
      ]
    },
    {
      "cell_type": "code",
      "metadata": {
        "id": "TC6ngFgegvy7"
      },
      "source": [
        ""
      ],
      "execution_count": null,
      "outputs": []
    }
  ]
}